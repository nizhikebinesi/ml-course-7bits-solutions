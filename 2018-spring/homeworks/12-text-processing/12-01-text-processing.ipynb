{
 "cells": [
  {
   "cell_type": "markdown",
   "metadata": {},
   "source": [
    "# Домашняя работа 9. Работа с текстами.\n",
    "\n",
    "1. Скачайте этот ноутбук к себе.\n",
    "2. Заполните пропущенные ячейки, отвечая на заданные вопросы. Там должен быть код! (если не сказано обратное)\n",
    "3. Сохраните результат в своём гитхаб репозитории.\n",
    "4. Пришлите на почту ml-teachers ссылку на этот файл в вашем репозитории.\n",
    "5. В теме письма указать `ML Homework #12: Name Surname`. Если тема будет неправильная, то задание не будет проверено.\n",
    "6. Дедлайн: (14.03.2018 23:59)\n",
    "7. После дедлайна можно сдать, но вы получите штраф по баллам в рейтинге.\n",
    "\n",
    "Рассылка решений: 19.03.2018 17:00  \n",
    "После рассылки задания почти совсем не имеют веса.\n",
    "\n",
    "## Полезная литература\n",
    "\n",
    "- [Word2vec notebook example](https://github.com/RaRe-Technologies/movie-plots-by-genre)\n",
    "- [Sklearn text classification example](http://scikit-learn.org/stable/tutorial/text_analytics/working_with_text_data.html)"
   ]
  },
  {
   "cell_type": "markdown",
   "metadata": {},
   "source": [
    "В этот раз мы будем работать с датасетом, содержащим обзоры на вина с сайта [winemag.com](https://www.winemag.com/). Сам датасет лежит на [kaggle/wine-reviews](https://www.kaggle.com/zynicide/wine-reviews/data). Скачайте файл `winemag-data-130k-v2.csv.zip`.\n",
    "\n",
    "Будем предсказывать `points` для вина по описанию. К сожалению у нас нет возможности предсказывать цену и качество конткретного вина, так как все отзывы про разные вина. Но можно предсказывать вид: `variety` (708 категорий)."
   ]
  },
  {
   "cell_type": "code",
   "execution_count": 1,
   "metadata": {},
   "outputs": [
    {
     "name": "stdout",
     "output_type": "stream",
     "text": [
      "[nltk_data] Downloading package wordnet to\n",
      "[nltk_data]     /home/nizhikebinesi/nltk_data...\n",
      "[nltk_data]   Package wordnet is already up-to-date!\n",
      "[nltk_data] Downloading package averaged_perceptron_tagger to\n",
      "[nltk_data]     /home/nizhikebinesi/nltk_data...\n",
      "[nltk_data]   Package averaged_perceptron_tagger is already up-to-\n",
      "[nltk_data]       date!\n",
      "[nltk_data] Downloading package tagsets to\n",
      "[nltk_data]     /home/nizhikebinesi/nltk_data...\n",
      "[nltk_data]   Package tagsets is already up-to-date!\n",
      "[nltk_data] Downloading package punkt to\n",
      "[nltk_data]     /home/nizhikebinesi/nltk_data...\n",
      "[nltk_data]   Package punkt is already up-to-date!\n",
      "[nltk_data] Downloading package stopwords to\n",
      "[nltk_data]     /home/nizhikebinesi/nltk_data...\n",
      "[nltk_data]   Package stopwords is already up-to-date!\n"
     ]
    }
   ],
   "source": [
    "import pandas as pd\n",
    "import numpy as np\n",
    "from matplotlib import pyplot as plt\n",
    "import seaborn as sns\n",
    "\n",
    "from nltk import download\n",
    "# возможно вам подребуется загрузить что-то еще >_<\n",
    "download('wordnet')\n",
    "download('averaged_perceptron_tagger')\n",
    "download('tagsets')\n",
    "download('punkt')\n",
    "download('stopwords')\n",
    "\n",
    "%matplotlib inline"
   ]
  },
  {
   "cell_type": "markdown",
   "metadata": {},
   "source": [
    "# 0. Подготовка данных\n",
    "\n",
    "Данных очень много и в них есть пропуски. Поэтому мы просто удаляем все объекты с пропущенными значениями."
   ]
  },
  {
   "cell_type": "markdown",
   "metadata": {},
   "source": [
    "### Чтение данных\n",
    "\n",
    "- Скачайте датасет `winemag-data-130k-v2.csv.zip` с [kaggle/wine-reviews](https://www.kaggle.com/zynicide/wine-reviews/data). \n",
    "- выполните все следующие ячейки"
   ]
  },
  {
   "cell_type": "code",
   "execution_count": 2,
   "metadata": {},
   "outputs": [
    {
     "name": "stdout",
     "output_type": "stream",
     "text": [
      "(129971, 13)\n"
     ]
    },
    {
     "data": {
      "text/html": [
       "<div>\n",
       "<style scoped>\n",
       "    .dataframe tbody tr th:only-of-type {\n",
       "        vertical-align: middle;\n",
       "    }\n",
       "\n",
       "    .dataframe tbody tr th {\n",
       "        vertical-align: top;\n",
       "    }\n",
       "\n",
       "    .dataframe thead th {\n",
       "        text-align: right;\n",
       "    }\n",
       "</style>\n",
       "<table border=\"1\" class=\"dataframe\">\n",
       "  <thead>\n",
       "    <tr style=\"text-align: right;\">\n",
       "      <th></th>\n",
       "      <th>country</th>\n",
       "      <th>description</th>\n",
       "      <th>designation</th>\n",
       "      <th>points</th>\n",
       "      <th>price</th>\n",
       "      <th>province</th>\n",
       "      <th>region_1</th>\n",
       "      <th>region_2</th>\n",
       "      <th>taster_name</th>\n",
       "      <th>taster_twitter_handle</th>\n",
       "      <th>title</th>\n",
       "      <th>variety</th>\n",
       "      <th>winery</th>\n",
       "    </tr>\n",
       "  </thead>\n",
       "  <tbody>\n",
       "    <tr>\n",
       "      <th>0</th>\n",
       "      <td>Italy</td>\n",
       "      <td>Aromas include tropical fruit, broom, brimston...</td>\n",
       "      <td>Vulkà Bianco</td>\n",
       "      <td>87</td>\n",
       "      <td>NaN</td>\n",
       "      <td>Sicily &amp; Sardinia</td>\n",
       "      <td>Etna</td>\n",
       "      <td>NaN</td>\n",
       "      <td>Kerin O’Keefe</td>\n",
       "      <td>@kerinokeefe</td>\n",
       "      <td>Nicosia 2013 Vulkà Bianco  (Etna)</td>\n",
       "      <td>White Blend</td>\n",
       "      <td>Nicosia</td>\n",
       "    </tr>\n",
       "    <tr>\n",
       "      <th>1</th>\n",
       "      <td>Portugal</td>\n",
       "      <td>This is ripe and fruity, a wine that is smooth...</td>\n",
       "      <td>Avidagos</td>\n",
       "      <td>87</td>\n",
       "      <td>15.0</td>\n",
       "      <td>Douro</td>\n",
       "      <td>NaN</td>\n",
       "      <td>NaN</td>\n",
       "      <td>Roger Voss</td>\n",
       "      <td>@vossroger</td>\n",
       "      <td>Quinta dos Avidagos 2011 Avidagos Red (Douro)</td>\n",
       "      <td>Portuguese Red</td>\n",
       "      <td>Quinta dos Avidagos</td>\n",
       "    </tr>\n",
       "    <tr>\n",
       "      <th>2</th>\n",
       "      <td>US</td>\n",
       "      <td>Tart and snappy, the flavors of lime flesh and...</td>\n",
       "      <td>NaN</td>\n",
       "      <td>87</td>\n",
       "      <td>14.0</td>\n",
       "      <td>Oregon</td>\n",
       "      <td>Willamette Valley</td>\n",
       "      <td>Willamette Valley</td>\n",
       "      <td>Paul Gregutt</td>\n",
       "      <td>@paulgwine</td>\n",
       "      <td>Rainstorm 2013 Pinot Gris (Willamette Valley)</td>\n",
       "      <td>Pinot Gris</td>\n",
       "      <td>Rainstorm</td>\n",
       "    </tr>\n",
       "    <tr>\n",
       "      <th>3</th>\n",
       "      <td>US</td>\n",
       "      <td>Pineapple rind, lemon pith and orange blossom ...</td>\n",
       "      <td>Reserve Late Harvest</td>\n",
       "      <td>87</td>\n",
       "      <td>13.0</td>\n",
       "      <td>Michigan</td>\n",
       "      <td>Lake Michigan Shore</td>\n",
       "      <td>NaN</td>\n",
       "      <td>Alexander Peartree</td>\n",
       "      <td>NaN</td>\n",
       "      <td>St. Julian 2013 Reserve Late Harvest Riesling ...</td>\n",
       "      <td>Riesling</td>\n",
       "      <td>St. Julian</td>\n",
       "    </tr>\n",
       "    <tr>\n",
       "      <th>4</th>\n",
       "      <td>US</td>\n",
       "      <td>Much like the regular bottling from 2012, this...</td>\n",
       "      <td>Vintner's Reserve Wild Child Block</td>\n",
       "      <td>87</td>\n",
       "      <td>65.0</td>\n",
       "      <td>Oregon</td>\n",
       "      <td>Willamette Valley</td>\n",
       "      <td>Willamette Valley</td>\n",
       "      <td>Paul Gregutt</td>\n",
       "      <td>@paulgwine</td>\n",
       "      <td>Sweet Cheeks 2012 Vintner's Reserve Wild Child...</td>\n",
       "      <td>Pinot Noir</td>\n",
       "      <td>Sweet Cheeks</td>\n",
       "    </tr>\n",
       "  </tbody>\n",
       "</table>\n",
       "</div>"
      ],
      "text/plain": [
       "    country                                        description  \\\n",
       "0     Italy  Aromas include tropical fruit, broom, brimston...   \n",
       "1  Portugal  This is ripe and fruity, a wine that is smooth...   \n",
       "2        US  Tart and snappy, the flavors of lime flesh and...   \n",
       "3        US  Pineapple rind, lemon pith and orange blossom ...   \n",
       "4        US  Much like the regular bottling from 2012, this...   \n",
       "\n",
       "                          designation  points  price           province  \\\n",
       "0                        Vulkà Bianco      87    NaN  Sicily & Sardinia   \n",
       "1                            Avidagos      87   15.0              Douro   \n",
       "2                                 NaN      87   14.0             Oregon   \n",
       "3                Reserve Late Harvest      87   13.0           Michigan   \n",
       "4  Vintner's Reserve Wild Child Block      87   65.0             Oregon   \n",
       "\n",
       "              region_1           region_2         taster_name  \\\n",
       "0                 Etna                NaN       Kerin O’Keefe   \n",
       "1                  NaN                NaN          Roger Voss   \n",
       "2    Willamette Valley  Willamette Valley        Paul Gregutt   \n",
       "3  Lake Michigan Shore                NaN  Alexander Peartree   \n",
       "4    Willamette Valley  Willamette Valley        Paul Gregutt   \n",
       "\n",
       "  taster_twitter_handle                                              title  \\\n",
       "0          @kerinokeefe                  Nicosia 2013 Vulkà Bianco  (Etna)   \n",
       "1            @vossroger      Quinta dos Avidagos 2011 Avidagos Red (Douro)   \n",
       "2           @paulgwine       Rainstorm 2013 Pinot Gris (Willamette Valley)   \n",
       "3                   NaN  St. Julian 2013 Reserve Late Harvest Riesling ...   \n",
       "4           @paulgwine   Sweet Cheeks 2012 Vintner's Reserve Wild Child...   \n",
       "\n",
       "          variety               winery  \n",
       "0     White Blend              Nicosia  \n",
       "1  Portuguese Red  Quinta dos Avidagos  \n",
       "2      Pinot Gris            Rainstorm  \n",
       "3        Riesling           St. Julian  \n",
       "4      Pinot Noir         Sweet Cheeks  "
      ]
     },
     "execution_count": 2,
     "metadata": {},
     "output_type": "execute_result"
    }
   ],
   "source": [
    "df_raw = pd.read_csv('./../../data/winemag-data-130k-v2.csv.zip', index_col=0, compression='zip')\n",
    "print(df_raw.shape)\n",
    "df_raw.head()"
   ]
  },
  {
   "cell_type": "code",
   "execution_count": 3,
   "metadata": {},
   "outputs": [
    {
     "data": {
      "text/html": [
       "<div>\n",
       "<style scoped>\n",
       "    .dataframe tbody tr th:only-of-type {\n",
       "        vertical-align: middle;\n",
       "    }\n",
       "\n",
       "    .dataframe tbody tr th {\n",
       "        vertical-align: top;\n",
       "    }\n",
       "\n",
       "    .dataframe thead th {\n",
       "        text-align: right;\n",
       "    }\n",
       "</style>\n",
       "<table border=\"1\" class=\"dataframe\">\n",
       "  <thead>\n",
       "    <tr style=\"text-align: right;\">\n",
       "      <th></th>\n",
       "      <th>points</th>\n",
       "      <th>price</th>\n",
       "    </tr>\n",
       "  </thead>\n",
       "  <tbody>\n",
       "    <tr>\n",
       "      <th>count</th>\n",
       "      <td>129971.000000</td>\n",
       "      <td>120975.000000</td>\n",
       "    </tr>\n",
       "    <tr>\n",
       "      <th>mean</th>\n",
       "      <td>88.447138</td>\n",
       "      <td>35.363389</td>\n",
       "    </tr>\n",
       "    <tr>\n",
       "      <th>std</th>\n",
       "      <td>3.039730</td>\n",
       "      <td>41.022218</td>\n",
       "    </tr>\n",
       "    <tr>\n",
       "      <th>min</th>\n",
       "      <td>80.000000</td>\n",
       "      <td>4.000000</td>\n",
       "    </tr>\n",
       "    <tr>\n",
       "      <th>25%</th>\n",
       "      <td>86.000000</td>\n",
       "      <td>17.000000</td>\n",
       "    </tr>\n",
       "    <tr>\n",
       "      <th>50%</th>\n",
       "      <td>88.000000</td>\n",
       "      <td>25.000000</td>\n",
       "    </tr>\n",
       "    <tr>\n",
       "      <th>75%</th>\n",
       "      <td>91.000000</td>\n",
       "      <td>42.000000</td>\n",
       "    </tr>\n",
       "    <tr>\n",
       "      <th>max</th>\n",
       "      <td>100.000000</td>\n",
       "      <td>3300.000000</td>\n",
       "    </tr>\n",
       "  </tbody>\n",
       "</table>\n",
       "</div>"
      ],
      "text/plain": [
       "              points          price\n",
       "count  129971.000000  120975.000000\n",
       "mean       88.447138      35.363389\n",
       "std         3.039730      41.022218\n",
       "min        80.000000       4.000000\n",
       "25%        86.000000      17.000000\n",
       "50%        88.000000      25.000000\n",
       "75%        91.000000      42.000000\n",
       "max       100.000000    3300.000000"
      ]
     },
     "execution_count": 3,
     "metadata": {},
     "output_type": "execute_result"
    }
   ],
   "source": [
    "df_raw.describe()"
   ]
  },
  {
   "cell_type": "code",
   "execution_count": 4,
   "metadata": {},
   "outputs": [],
   "source": [
    "df = df_raw.dropna(subset=['points', 'price'], how='any').copy()"
   ]
  },
  {
   "cell_type": "code",
   "execution_count": 5,
   "metadata": {},
   "outputs": [
    {
     "data": {
      "image/png": "[encoded data removed]",
      "text/plain": [
       "<matplotlib.figure.Figure at 0x7f2bcab1d898>"
      ]
     },
     "metadata": {},
     "output_type": "display_data"
    }
   ],
   "source": [
    "sns.countplot(y='points', data=df);"
   ]
  },
  {
   "cell_type": "code",
   "execution_count": 6,
   "metadata": {},
   "outputs": [
    {
     "data": {
      "image/png": "[encoded data removed]",
      "text/plain": [
       "<matplotlib.figure.Figure at 0x7f2bca447940>"
      ]
     },
     "metadata": {},
     "output_type": "display_data"
    }
   ],
   "source": [
    "df.loc[(df['points'] < 86), 'score'] = 'bad'\n",
    "df.loc[(df['points'] >= 86) & (df['points'] < 90), 'score'] = 'normal'\n",
    "df.loc[(df['points'] >= 90) & (df['points'] < 94), 'score'] = 'good'\n",
    "df.loc[df['points'] >= 94, 'score'] = 'excellent'\n",
    "\n",
    "sns.countplot(y='score', data=df);"
   ]
  },
  {
   "cell_type": "code",
   "execution_count": 7,
   "metadata": {},
   "outputs": [
    {
     "data": {
      "image/png": "[encoded data removed]",
      "text/plain": [
       "<matplotlib.figure.Figure at 0x7f2bca3f7860>"
      ]
     },
     "metadata": {},
     "output_type": "display_data"
    }
   ],
   "source": [
    "N = 10000  # уменьшаем датасет\n",
    "\n",
    "df_small = pd.concat((df[df['score'] == 'bad'].head(N),\n",
    "df[df['score'] == 'normal'].head(N),\n",
    "df[df['score'] == 'good'].head(N),\n",
    "df[df['score'] == 'excellent'].head(N)))\n",
    "\n",
    "sns.countplot(y='score', data=df_small);"
   ]
  },
  {
   "cell_type": "code",
   "execution_count": 8,
   "metadata": {},
   "outputs": [
    {
     "data": {
      "text/plain": [
       "'This new vineyard-designate from Saintsbury has a classic profile. Spicy, woodsy, cherrylike aromas lead to layered raspberry, cinnamon and cherry flavors, with the firm texture of fine-grained tanins and good acidity. It offers a lightly tart and lingering finish. Great balance and complexity come together beautifully here.'"
      ]
     },
     "execution_count": 8,
     "metadata": {},
     "output_type": "execute_result"
    }
   ],
   "source": [
    "# посмотрим пример\n",
    "df_small[df_small['score'] == 'excellent'].sample()['description'].values[0]"
   ]
  },
  {
   "cell_type": "code",
   "execution_count": 9,
   "metadata": {},
   "outputs": [],
   "source": [
    "X = df_small['description']\n",
    "y = df_small['score']"
   ]
  },
  {
   "cell_type": "markdown",
   "metadata": {},
   "source": [
    "## 1. Препроцессинг текстов\n",
    "\n",
    "В этом блоке заданий вам предстоит зяняться препроцессиногом текстов.\n",
    "Самое главное в работе с текстами - их препроцессинг. При этом важно понимать, для какой модели мы \"готовим\" наш текст. Например, если мы используем просто [CountVectorizer](http://scikit-learn.org/stable/modules/generated/sklearn.feature_extraction.text.CountVectorizer.html), то нам не важно расположение слова в тексте и мы **должны** привести все слова к нижнему (или верхнему) регистру. Но при этом, если мы используем какую-нибудь модель, которая первое слово в тексте (или имена собственные) оценивает как-нибудь по другому, то стоит оставить такие заглавные буквы."
   ]
  },
  {
   "cell_type": "markdown",
   "metadata": {},
   "source": [
    "### 1.2 Простая обработка данных\n",
    "В данном задании вам нужно написать функцию, разбивающую текст на слова, при этом удаляя слова короче 2 символов.\n",
    "Приведение к нижнему регистру и удаление стоп слов будет сделано с помощью аргументов конструктора конкретного векторайзера. Так работает намного быстрее.\n",
    "\n",
    "**Hint:** используйте функцию `word_tokenize` и список стоп-слов из библиотеки nltk"
   ]
  },
  {
   "cell_type": "code",
   "execution_count": 10,
   "metadata": {},
   "outputs": [],
   "source": [
    "from nltk.corpus import stopwords\n",
    "from nltk import word_tokenize\n",
    "\n",
    "def simple_tokenize_text(text: str) -> list:\n",
    "    tokens = [token for token in word_tokenize(text) if token not in stopwords.words('english') and len(token) > 2]\n",
    "    return tokens"
   ]
  },
  {
   "cell_type": "markdown",
   "metadata": {},
   "source": [
    "Покажите, что станет с этим текстом, пропустив его через токенайзер: `\"The quick brown fox jumps over the lazy dogs. Have you seen it?\"`"
   ]
  },
  {
   "cell_type": "code",
   "execution_count": 11,
   "metadata": {},
   "outputs": [
    {
     "name": "stdout",
     "output_type": "stream",
     "text": [
      "CPU times: user 19 ms, sys: 1.2 ms, total: 20.2 ms\n",
      "Wall time: 119 ms\n"
     ]
    },
    {
     "data": {
      "text/plain": [
       "['The', 'quick', 'brown', 'fox', 'jumps', 'lazy', 'dogs', 'Have', 'seen']"
      ]
     },
     "execution_count": 11,
     "metadata": {},
     "output_type": "execute_result"
    }
   ],
   "source": [
    "%%time\n",
    "simple_tokenize_text(\"The quick brown fox jumps over the lazy dogs. Have you seen it?\")"
   ]
  },
  {
   "cell_type": "markdown",
   "metadata": {},
   "source": [
    "### 1.3 Стемминг текстов"
   ]
  },
  {
   "cell_type": "markdown",
   "metadata": {},
   "source": [
    "Стемминг - процесс отбрасывания от слов \"ненужных\" частей, то есть по-сути выделение основы из слова. При этом результат стемминга может не совпадать с морфологической основой или корнем. Существует достаточно много алгоритмов стемминга. Мы рассмотрим 3 из них: (добавить Snowball Stemmer Lancaster Stemmer)\n",
    "\n",
    "Ниже предствлены примеры работы `PorterStemmer` стеммера:"
   ]
  },
  {
   "cell_type": "code",
   "execution_count": 12,
   "metadata": {},
   "outputs": [
    {
     "name": "stdout",
     "output_type": "stream",
     "text": [
      "hello\n",
      "cook\n",
      "cooker\n",
      "cook\n",
      "multipli\n"
     ]
    }
   ],
   "source": [
    "from nltk.stem.porter import PorterStemmer\n",
    "stemmer = PorterStemmer()\n",
    "\n",
    "print(stemmer.stem('hello'))\n",
    "print(stemmer.stem('cook'))\n",
    "print(stemmer.stem('cooker'))\n",
    "print(stemmer.stem('cooked'))\n",
    "print(stemmer.stem('multiply'))"
   ]
  },
  {
   "cell_type": "markdown",
   "metadata": {},
   "source": [
    "### 1.3.0\n",
    "\n",
    "Дополните функцию `simple_tokenize_text` стеммингом слов с помощью стеммера `PorterStemmer` из библиотеки nltk."
   ]
  },
  {
   "cell_type": "code",
   "execution_count": 13,
   "metadata": {},
   "outputs": [],
   "source": [
    "from nltk.stem.porter import PorterStemmer\n",
    "stemmer = PorterStemmer()\n",
    "\n",
    "def stem_tokenize_text(text: str) -> list:\n",
    "    return [stemmer.stem(token) for token in simple_tokenize_text(text)]"
   ]
  },
  {
   "cell_type": "markdown",
   "metadata": {},
   "source": [
    "Покажите, что станет с этим текстом, пропустив его через токенайзер: `\"The quick brown fox jumps over the lazy dogs. Have you seen it?\"`"
   ]
  },
  {
   "cell_type": "code",
   "execution_count": 14,
   "metadata": {},
   "outputs": [
    {
     "name": "stdout",
     "output_type": "stream",
     "text": [
      "CPU times: user 4.07 ms, sys: 17 µs, total: 4.09 ms\n",
      "Wall time: 3.34 ms\n"
     ]
    },
    {
     "data": {
      "text/plain": [
       "['the', 'quick', 'brown', 'fox', 'jump', 'lazi', 'dog', 'have', 'seen']"
      ]
     },
     "execution_count": 14,
     "metadata": {},
     "output_type": "execute_result"
    }
   ],
   "source": [
    "%%time\n",
    "stem_tokenize_text(\"The quick brown fox jumps over the lazy dogs. Have you seen it?\")"
   ]
  },
  {
   "cell_type": "markdown",
   "metadata": {},
   "source": [
    "### 1.3.1\n",
    "Подберите 3 слова на английском языке, разные времена которых будут иметь разные варианты после `PorterStemmer` стемминга. То есть стемминг не будет иметь на них эффекта. Выведите результат стемминга данных слов"
   ]
  },
  {
   "cell_type": "code",
   "execution_count": 15,
   "metadata": {},
   "outputs": [
    {
     "name": "stdout",
     "output_type": "stream",
     "text": [
      "is\n",
      "wa\n",
      "will\n",
      "-=-=-=-=-=-=-=-=-=-=-=\n",
      "cleav\n",
      "cleft\n",
      "cloven\n",
      "-=-=-=-=-=-=-=-=-=-=-=\n",
      "go\n",
      "went\n",
      "gone\n"
     ]
    }
   ],
   "source": [
    "print(stemmer.stem(\"is\"))\n",
    "print(stemmer.stem(\"was\"))\n",
    "print(stemmer.stem(\"will\"))\n",
    "print('-=-=-=-=-=-=-=-=-=-=-=')\n",
    "print(stemmer.stem(\"cleave\"))\n",
    "print(stemmer.stem(\"cleft\"))\n",
    "print(stemmer.stem(\"cloven\"))\n",
    "print('-=-=-=-=-=-=-=-=-=-=-=')\n",
    "print(stemmer.stem(\"go\"))\n",
    "print(stemmer.stem(\"went\"))\n",
    "print(stemmer.stem(\"gone\"))"
   ]
  },
  {
   "cell_type": "markdown",
   "metadata": {},
   "source": [
    "Подобные \"проблеммы\" есть почти у всех видов стеммеров. Лемматизаторы позволяют избежать данных проблем. Лемматизация сильно похожа на стемминг, но отличаются они лишь тем, что стемминг смотрит только на слово, не учитывая контекст.\n",
    "\n",
    "Рассмотрим примеры работы лемматизатора:"
   ]
  },
  {
   "cell_type": "code",
   "execution_count": 16,
   "metadata": {},
   "outputs": [
    {
     "name": "stdout",
     "output_type": "stream",
     "text": [
      "are\n",
      "is\n"
     ]
    }
   ],
   "source": [
    "from nltk.stem import WordNetLemmatizer\n",
    "\n",
    "wordnet_lemmatizer = WordNetLemmatizer()\n",
    "print(wordnet_lemmatizer.lemmatize('are'))\n",
    "print(wordnet_lemmatizer.lemmatize('is'))"
   ]
  },
  {
   "cell_type": "markdown",
   "metadata": {},
   "source": [
    "Как мы видим, `are` и `is` не превратились в начальную форму. Все из-за того, что лемматизатор не знал, к какой части речи отнести данные слова. но если мы скажем, тогда:"
   ]
  },
  {
   "cell_type": "code",
   "execution_count": 17,
   "metadata": {},
   "outputs": [
    {
     "name": "stdout",
     "output_type": "stream",
     "text": [
      "be\n",
      "be\n"
     ]
    }
   ],
   "source": [
    "print(wordnet_lemmatizer.lemmatize('are', pos='v'))\n",
    "print(wordnet_lemmatizer.lemmatize('is', pos='v'))"
   ]
  },
  {
   "cell_type": "markdown",
   "metadata": {},
   "source": [
    "Так как для работы лемматизатора нам необходимы части речи, нужно научиться эти самые части речи определять. Это задача POS-tagging (POST). Рассмотрим работу POS-тэггера из библиотеки nltk:"
   ]
  },
  {
   "cell_type": "code",
   "execution_count": 18,
   "metadata": {},
   "outputs": [
    {
     "name": "stdout",
     "output_type": "stream",
     "text": [
      "[('We', 'PRP'), ('love', 'VBP'), ('our', 'PRP$'), ('students', 'NNS')]\n"
     ]
    }
   ],
   "source": [
    "from nltk import pos_tag, word_tokenize\n",
    "\n",
    "posed_words = pos_tag(word_tokenize('We love our students'))\n",
    "print(posed_words)"
   ]
  },
  {
   "cell_type": "markdown",
   "metadata": {},
   "source": [
    "Но что же значат эти теги? Давайте разберемся!"
   ]
  },
  {
   "cell_type": "code",
   "execution_count": 19,
   "metadata": {},
   "outputs": [
    {
     "name": "stdout",
     "output_type": "stream",
     "text": [
      "PRP: pronoun, personal\n",
      "    hers herself him himself hisself it itself me myself one oneself ours\n",
      "    ourselves ownself self she thee theirs them themselves they thou thy us\n",
      "None\n",
      "VBP: verb, present tense, not 3rd person singular\n",
      "    predominate wrap resort sue twist spill cure lengthen brush terminate\n",
      "    appear tend stray glisten obtain comprise detest tease attract\n",
      "    emphasize mold postpone sever return wag ...\n",
      "None\n"
     ]
    }
   ],
   "source": [
    "from nltk.help import upenn_tagset\n",
    "\n",
    "print(upenn_tagset('PRP'))\n",
    "print(upenn_tagset('VBP'))"
   ]
  },
  {
   "cell_type": "markdown",
   "metadata": {},
   "source": [
    "Для того, чтобы объеденить лемматизатор и POS тэггер, нам потребуется промежуточная функция:"
   ]
  },
  {
   "cell_type": "code",
   "execution_count": 20,
   "metadata": {},
   "outputs": [],
   "source": [
    "from nltk.corpus import wordnet\n",
    "\n",
    "def get_wordnet_pos(treebank_tag):\n",
    "    if treebank_tag.startswith('J'):\n",
    "        return wordnet.ADJ\n",
    "    if treebank_tag.startswith('V'):\n",
    "        return wordnet.VERB\n",
    "    if treebank_tag.startswith('N'):\n",
    "        return wordnet.NOUN\n",
    "    if treebank_tag.startswith('R'):\n",
    "        return wordnet.ADV\n",
    "    else:\n",
    "        return wordnet.NOUN"
   ]
  },
  {
   "cell_type": "code",
   "execution_count": 21,
   "metadata": {},
   "outputs": [
    {
     "data": {
      "text/plain": [
       "'student'"
      ]
     },
     "execution_count": 21,
     "metadata": {},
     "output_type": "execute_result"
    }
   ],
   "source": [
    "wordnet_lemmatizer.lemmatize(posed_words[3][0], pos=get_wordnet_pos(posed_words[3][1]))"
   ]
  },
  {
   "cell_type": "markdown",
   "metadata": {},
   "source": [
    "### 1.3.2\n",
    "\n",
    "Улучшим функцию `simple_tokenize_text`: добавим лемматизацию слов."
   ]
  },
  {
   "cell_type": "code",
   "execution_count": 22,
   "metadata": {},
   "outputs": [],
   "source": [
    "def lemm_tokenize_text(text: str) -> list:\n",
    "    return [wordnet_lemmatizer.lemmatize(tupl[0], pos=get_wordnet_pos(tupl[1])) for tupl in pos_tag(simple_tokenize_text(text))]"
   ]
  },
  {
   "cell_type": "markdown",
   "metadata": {},
   "source": [
    "Покажите, что станет с этим текстом, пропустив его через токенайзер: `\"The quick brown fox jumps over the lazy dogs. Have you seen it?\"`"
   ]
  },
  {
   "cell_type": "code",
   "execution_count": 23,
   "metadata": {},
   "outputs": [
    {
     "name": "stdout",
     "output_type": "stream",
     "text": [
      "CPU times: user 1.85 ms, sys: 3.42 ms, total: 5.26 ms\n",
      "Wall time: 4.44 ms\n"
     ]
    },
    {
     "data": {
      "text/plain": [
       "['The', 'quick', 'brown', 'fox', 'jump', 'lazy', 'dog', 'Have', 'see']"
      ]
     },
     "execution_count": 23,
     "metadata": {},
     "output_type": "execute_result"
    }
   ],
   "source": [
    "%%time\n",
    "lemm_tokenize_text(\"The quick brown fox jumps over the lazy dogs. Have you seen it?\")"
   ]
  },
  {
   "cell_type": "markdown",
   "metadata": {},
   "source": [
    "У нас получилось 3 способа токенизации. Будем использовать их в будующих заданиях."
   ]
  },
  {
   "cell_type": "code",
   "execution_count": 24,
   "metadata": {},
   "outputs": [],
   "source": [
    "tokenizers = [\n",
    "    simple_tokenize_text,\n",
    "    stem_tokenize_text,\n",
    "    lemm_tokenize_text\n",
    "]"
   ]
  },
  {
   "cell_type": "code",
   "execution_count": 39,
   "metadata": {},
   "outputs": [],
   "source": [
    "# Это код из практики для красивого вывода\n",
    "from sklearn.metrics import confusion_matrix\n",
    "\n",
    "def examine(clf, X_train, X_test, y_train, y_test, scoring='accuracy', my_tags=['bad', 'normal', 'good', 'excellent']):\n",
    "    print(X_train.shape, y_train.shape)\n",
    "    clf.fit(X_train, y_train)\n",
    "    scores = clf.score(X_test, y_test)\n",
    "    sns.heatmap(confusion_matrix(y_test, clf.predict(X_test)), xticklabels=my_tags, yticklabels=my_tags, annot=True, fmt=\"d\",cmap=plt.cm.Blues)\n",
    "    plt.show()\n",
    "    print('%s1 : %s2' % (clf.__class__.__name__, scores))\n",
    "    return {'score': scores, 'clf': clf.__class__.__name__}"
   ]
  },
  {
   "cell_type": "markdown",
   "metadata": {},
   "source": [
    "# 2. Эксперименты с векторайзерами\n",
    "\n",
    "У нас есть несколько моделей токенайзеров, теперь можно посмотреть как каждый из них работает с разными векторайзерами: `CountVectorizer`, `TfidfVectorizer`. Вы увидите, что даже от предобработки признаков зависит много, не меньше чем от дальнейшей векторизайии. \n",
    "\n",
    "Будем сравнивать качество классификации обычным `RidgeClassifier`, перебирая разные векторайзеры и токенайзеры. Наиболее интересно, рассматривать confusion matrix, как мы делали на практике. Поэтому используйте функцию `examine`. Добавляйте в начало ячейки макрос `%%time`, чтобы видеть как долго работает обучение, трансформации и токенизации.\n",
    "\n",
    "В практике мы дополнительно выводили список наиболее важных слов по мнению классификатора при принятии решений. Вы тоже должны вывести список 10 самых важных слов для каждого класса для каждого эксперимента. Это даже важнее, чем просто процент ошибок, так как по этим словам вы можете сказать, есть ли у модели хоть какое-то понимание текстов или нет.\n",
    "\n",
    "### Задание:\n",
    "\n",
    "- перебор `simple_tokenize_text`, `stem_tokenize_text`, `lemm_tokenize_text`\n",
    "- перебор `CountVectorizer`, `TfidfVectorizer`\n",
    "- используем `RidgeClassifier`\n",
    "- разбиваем выборку на тестовую и тренировочную в соотношении 60/40 с random_state=42 (train_test_split)\n",
    "- рисуем confusion_matrix\n",
    "- выводим топ-10 наиболее важных слов по категориям"
   ]
  },
  {
   "cell_type": "markdown",
   "metadata": {},
   "source": [
    "## Возможные проблемы\n",
    "\n",
    "Обучите векторайзер функцией fit на всем датасете X. Внимание, если у вас выполняется функция fit на всём датасете медленее, чем 30 секунд на mobile i5 2.5GHz, 16GB Ram, SSD, то вы написали неоптимально функцию токенизации.\n",
    "\n",
    "Если всё совсем плохо, например лемматизация очень медленно выполняется, то можете еще немного уменьшить датасет. Например, поставить N=5000."
   ]
  },
  {
   "cell_type": "code",
   "execution_count": 40,
   "metadata": {},
   "outputs": [],
   "source": [
    "from sklearn.feature_extraction.text import TfidfVectorizer, CountVectorizer\n",
    "from sklearn.linear_model import RidgeClassifier\n",
    "from sklearn.ensemble import ExtraTreesClassifier\n",
    "from sklearn.model_selection import cross_val_score, KFold, train_test_split\n",
    "from tqdm import tqdm\n",
    "from sklearn.preprocessing import LabelEncoder"
   ]
  },
  {
   "cell_type": "code",
   "execution_count": 50,
   "metadata": {},
   "outputs": [
    {
     "name": "stderr",
     "output_type": "stream",
     "text": [
      "\n",
      "  0%|          | 0/3 [00:00<?, ?it/s]\u001b[A\n",
      "\n",
      "  0%|          | 0/2 [00:00<?, ?it/s]"
     ]
    },
    {
     "name": "stdout",
     "output_type": "stream",
     "text": [
      "CPU times: user 5min 4s, sys: 23.3 s, total: 5min 27s\n",
      "Wall time: 5min 27s\n",
      "CPU times: user 75.1 ms, sys: 7.93 ms, total: 83 ms\n",
      "Wall time: 83 ms\n"
     ]
    },
    {
     "name": "stderr",
     "output_type": "stream",
     "text": [
      "\u001b[A\n",
      "\n",
      "  0%|          | 0/2 [00:00<?, ?it/s]\u001b[A\u001b[A"
     ]
    },
    {
     "name": "stdout",
     "output_type": "stream",
     "text": [
      "CPU times: user 15 µs, sys: 0 ns, total: 15 µs\n",
      "Wall time: 19.3 µs\n",
      "(21396, 19888) (21396,)\n"
     ]
    },
    {
     "data": {
      "image/png": "[encoded data removed]",
      "text/plain": [
       "<matplotlib.figure.Figure at 0x7f2bbc043438>"
      ]
     },
     "metadata": {},
     "output_type": "display_data"
    },
    {
     "name": "stderr",
     "output_type": "stream",
     "text": [
      "\n",
      "\n",
      "\r",
      " 50%|█████     | 1/2 [00:15<00:15, 15.06s/it]"
     ]
    },
    {
     "name": "stdout",
     "output_type": "stream",
     "text": [
      "RidgeClassifier1 : 0.57270050476724622\n",
      "{'clf': 'RidgeClassifier', 'score': 0.5727005047672462}\n",
      "(21396, 19888) (21396,)\n"
     ]
    },
    {
     "name": "stderr",
     "output_type": "stream",
     "text": [
      "\u001b[A\u001b[A"
     ]
    },
    {
     "data": {
      "image/png": "[encoded data removed]",
      "text/plain": [
       "<matplotlib.figure.Figure at 0x7f2bb1b7afd0>"
      ]
     },
     "metadata": {},
     "output_type": "display_data"
    },
    {
     "name": "stderr",
     "output_type": "stream",
     "text": [
      "\n",
      "\n",
      "100%|██████████| 2/2 [00:19<00:00, 11.91s/it]\u001b[A\u001b[A\n",
      "\n",
      "\u001b[A\u001b[A\n",
      " 50%|█████     | 1/2 [00:21<00:21, 21.07s/it]"
     ]
    },
    {
     "name": "stdout",
     "output_type": "stream",
     "text": [
      "ExtraTreesClassifier1 : 0.53680594503645542\n",
      "{'clf': 'ExtraTreesClassifier', 'score': 0.5368059450364554}\n"
     ]
    },
    {
     "name": "stderr",
     "output_type": "stream",
     "text": [
      "\u001b[A\n",
      "\n",
      "  0%|          | 0/2 [00:00<?, ?it/s]\u001b[A\u001b[A"
     ]
    },
    {
     "name": "stdout",
     "output_type": "stream",
     "text": [
      "CPU times: user 74 µs, sys: 5 µs, total: 79 µs\n",
      "Wall time: 30.8 µs\n",
      "(21396, 19888) (21396,)\n"
     ]
    },
    {
     "data": {
      "image/png": "[encoded data removed]",
      "text/plain": [
       "<matplotlib.figure.Figure at 0x7f2bacdaa7f0>"
      ]
     },
     "metadata": {},
     "output_type": "display_data"
    },
    {
     "name": "stderr",
     "output_type": "stream",
     "text": [
      "\n",
      "\n",
      "\r",
      " 50%|█████     | 1/2 [00:02<00:02,  2.27s/it]"
     ]
    },
    {
     "name": "stdout",
     "output_type": "stream",
     "text": [
      "RidgeClassifier1 : 0.60018227706113292\n",
      "{'clf': 'RidgeClassifier', 'score': 0.6001822770611329}\n",
      "(21396, 19888) (21396,)\n"
     ]
    },
    {
     "name": "stderr",
     "output_type": "stream",
     "text": [
      "\u001b[A\u001b[A"
     ]
    },
    {
     "data": {
      "image/png": "[encoded data removed]",
      "text/plain": [
       "<matplotlib.figure.Figure at 0x7f2bab35cb38>"
      ]
     },
     "metadata": {},
     "output_type": "display_data"
    },
    {
     "name": "stderr",
     "output_type": "stream",
     "text": [
      "\n",
      "\n",
      "100%|██████████| 2/2 [00:06<00:00,  2.78s/it]\u001b[A\u001b[A\n",
      "\n",
      "\u001b[A\u001b[A\n",
      "100%|██████████| 2/2 [00:28<00:00, 17.08s/it]\u001b[A\n",
      " 33%|███▎      | 1/3 [05:56<11:52, 356.34s/it]"
     ]
    },
    {
     "name": "stdout",
     "output_type": "stream",
     "text": [
      "ExtraTreesClassifier1 : 0.54388670779584972\n",
      "{'clf': 'ExtraTreesClassifier', 'score': 0.5438867077958497}\n"
     ]
    },
    {
     "name": "stderr",
     "output_type": "stream",
     "text": [
      "\n",
      "\r",
      "  0%|          | 0/2 [00:00<?, ?it/s]"
     ]
    },
    {
     "name": "stdout",
     "output_type": "stream",
     "text": [
      "CPU times: user 5min 18s, sys: 22.3 s, total: 5min 40s\n",
      "Wall time: 5min 40s\n",
      "CPU times: user 65 ms, sys: 4.07 ms, total: 69.1 ms\n",
      "Wall time: 69 ms\n"
     ]
    },
    {
     "name": "stderr",
     "output_type": "stream",
     "text": [
      "\u001b[A\n",
      "\n",
      "  0%|          | 0/2 [00:00<?, ?it/s]\u001b[A\u001b[A"
     ]
    },
    {
     "name": "stdout",
     "output_type": "stream",
     "text": [
      "CPU times: user 22 µs, sys: 0 ns, total: 22 µs\n",
      "Wall time: 27.2 µs\n",
      "(21396, 15201) (21396,)\n"
     ]
    },
    {
     "data": {
      "image/png": "[encoded data removed]",
      "text/plain": [
       "<matplotlib.figure.Figure at 0x7f2baab3ef60>"
      ]
     },
     "metadata": {},
     "output_type": "display_data"
    },
    {
     "name": "stderr",
     "output_type": "stream",
     "text": [
      "\n",
      "\n",
      "\r",
      " 50%|█████     | 1/2 [00:12<00:12, 12.83s/it]"
     ]
    },
    {
     "name": "stdout",
     "output_type": "stream",
     "text": [
      "RidgeClassifier1 : 0.58048233314638252\n",
      "{'clf': 'RidgeClassifier', 'score': 0.5804823331463825}\n",
      "(21396, 15201) (21396,)\n"
     ]
    },
    {
     "name": "stderr",
     "output_type": "stream",
     "text": [
      "\u001b[A\u001b[A"
     ]
    },
    {
     "data": {
      "image/png": "[encoded data removed]",
      "text/plain": [
       "<matplotlib.figure.Figure at 0x7f2baab49898>"
      ]
     },
     "metadata": {},
     "output_type": "display_data"
    },
    {
     "name": "stderr",
     "output_type": "stream",
     "text": [
      "\n",
      "\n",
      "100%|██████████| 2/2 [00:15<00:00,  9.85s/it]\u001b[A\u001b[A\n",
      "\n",
      "\u001b[A\u001b[A\n",
      " 50%|█████     | 1/2 [00:16<00:16, 16.93s/it]"
     ]
    },
    {
     "name": "stdout",
     "output_type": "stream",
     "text": [
      "ExtraTreesClassifier1 : 0.53820807627593952\n",
      "{'clf': 'ExtraTreesClassifier', 'score': 0.5382080762759395}\n"
     ]
    },
    {
     "name": "stderr",
     "output_type": "stream",
     "text": [
      "\u001b[A\n",
      "\n",
      "  0%|          | 0/2 [00:00<?, ?it/s]\u001b[A\u001b[A"
     ]
    },
    {
     "name": "stdout",
     "output_type": "stream",
     "text": [
      "CPU times: user 65 µs, sys: 5 µs, total: 70 µs\n",
      "Wall time: 27.2 µs\n",
      "(21396, 15201) (21396,)\n"
     ]
    },
    {
     "data": {
      "image/png": "[encoded data removed]",
      "text/plain": [
       "<matplotlib.figure.Figure at 0x7f2bb871b9b0>"
      ]
     },
     "metadata": {},
     "output_type": "display_data"
    },
    {
     "name": "stderr",
     "output_type": "stream",
     "text": [
      "\n",
      "\n",
      "\r",
      " 50%|█████     | 1/2 [00:01<00:01,  1.75s/it]"
     ]
    },
    {
     "name": "stdout",
     "output_type": "stream",
     "text": [
      "RidgeClassifier1 : 0.60137408861469432\n",
      "{'clf': 'RidgeClassifier', 'score': 0.6013740886146943}\n",
      "(21396, 15201) (21396,)\n"
     ]
    },
    {
     "name": "stderr",
     "output_type": "stream",
     "text": [
      "\u001b[A\u001b[A"
     ]
    },
    {
     "data": {
      "image/png": "[encoded data removed]",
      "text/plain": [
       "<matplotlib.figure.Figure at 0x7f2bb872a438>"
      ]
     },
     "metadata": {},
     "output_type": "display_data"
    },
    {
     "name": "stderr",
     "output_type": "stream",
     "text": [
      "\n",
      "\n",
      "100%|██████████| 2/2 [00:04<00:00,  2.20s/it]\u001b[A\u001b[A\n",
      "\n",
      "\u001b[A\u001b[A\n",
      "100%|██████████| 2/2 [00:23<00:00, 13.73s/it]\u001b[A\n",
      " 67%|██████▋   | 2/3 [12:00<05:58, 358.66s/it]"
     ]
    },
    {
     "name": "stdout",
     "output_type": "stream",
     "text": [
      "ExtraTreesClassifier1 : 0.53582445316881662\n",
      "{'clf': 'ExtraTreesClassifier', 'score': 0.5358244531688166}\n"
     ]
    },
    {
     "name": "stderr",
     "output_type": "stream",
     "text": [
      "\n",
      "\r",
      "  0%|          | 0/2 [00:00<?, ?it/s]"
     ]
    },
    {
     "name": "stdout",
     "output_type": "stream",
     "text": [
      "CPU times: user 7min 22s, sys: 24.4 s, total: 7min 46s\n",
      "Wall time: 7min 46s\n",
      "CPU times: user 64.7 ms, sys: 7.88 ms, total: 72.6 ms\n",
      "Wall time: 72.5 ms\n"
     ]
    },
    {
     "name": "stderr",
     "output_type": "stream",
     "text": [
      "\u001b[A\n",
      "\n",
      "  0%|          | 0/2 [00:00<?, ?it/s]\u001b[A\u001b[A"
     ]
    },
    {
     "name": "stdout",
     "output_type": "stream",
     "text": [
      "CPU times: user 15 µs, sys: 0 ns, total: 15 µs\n",
      "Wall time: 19.1 µs\n",
      "(21396, 17990) (21396,)\n"
     ]
    },
    {
     "data": {
      "image/png": "[encoded data removed]",
      "text/plain": [
       "<matplotlib.figure.Figure at 0x7f2ba9328780>"
      ]
     },
     "metadata": {},
     "output_type": "display_data"
    },
    {
     "name": "stderr",
     "output_type": "stream",
     "text": [
      "\n",
      "\n",
      "\r",
      " 50%|█████     | 1/2 [00:12<00:12, 12.91s/it]"
     ]
    },
    {
     "name": "stdout",
     "output_type": "stream",
     "text": [
      "RidgeClassifier1 : 0.57627593942793042\n",
      "{'clf': 'RidgeClassifier', 'score': 0.5762759394279304}\n",
      "(21396, 17990) (21396,)\n"
     ]
    },
    {
     "name": "stderr",
     "output_type": "stream",
     "text": [
      "\u001b[A\u001b[A"
     ]
    },
    {
     "data": {
      "image/png": "[encoded data removed]",
      "text/plain": [
       "<matplotlib.figure.Figure at 0x7f2bad6ef780>"
      ]
     },
     "metadata": {},
     "output_type": "display_data"
    },
    {
     "name": "stderr",
     "output_type": "stream",
     "text": [
      "\n",
      "\n",
      "100%|██████████| 2/2 [00:16<00:00, 10.01s/it]\u001b[A\u001b[A\n",
      "\n",
      "\u001b[A\u001b[A\n",
      " 50%|█████     | 1/2 [00:17<00:17, 17.35s/it]"
     ]
    },
    {
     "name": "stdout",
     "output_type": "stream",
     "text": [
      "ExtraTreesClassifier1 : 0.5317582725743132\n",
      "{'clf': 'ExtraTreesClassifier', 'score': 0.531758272574313}\n"
     ]
    },
    {
     "name": "stderr",
     "output_type": "stream",
     "text": [
      "\u001b[A\n",
      "\n",
      "  0%|          | 0/2 [00:00<?, ?it/s]\u001b[A\u001b[A"
     ]
    },
    {
     "name": "stdout",
     "output_type": "stream",
     "text": [
      "CPU times: user 77 µs, sys: 5 µs, total: 82 µs\n",
      "Wall time: 31.9 µs\n",
      "(21396, 17990) (21396,)\n"
     ]
    },
    {
     "data": {
      "image/png": "[encoded data removed]",
      "text/plain": [
       "<matplotlib.figure.Figure at 0x7f2ba93289b0>"
      ]
     },
     "metadata": {},
     "output_type": "display_data"
    },
    {
     "name": "stderr",
     "output_type": "stream",
     "text": [
      "\n",
      "\n",
      "\r",
      " 50%|█████     | 1/2 [00:02<00:02,  2.04s/it]"
     ]
    },
    {
     "name": "stdout",
     "output_type": "stream",
     "text": [
      "RidgeClassifier1 : 0.59632641615255192\n",
      "{'clf': 'RidgeClassifier', 'score': 0.5963264161525519}\n",
      "(21396, 17990) (21396,)\n"
     ]
    },
    {
     "name": "stderr",
     "output_type": "stream",
     "text": [
      "\u001b[A\u001b[A"
     ]
    },
    {
     "data": {
      "image/png": "[encoded data removed]",
      "text/plain": [
       "<matplotlib.figure.Figure at 0x7f2bad6f1a58>"
      ]
     },
     "metadata": {},
     "output_type": "display_data"
    },
    {
     "name": "stderr",
     "output_type": "stream",
     "text": [
      "\n",
      "\n",
      "100%|██████████| 2/2 [00:05<00:00,  2.44s/it]\u001b[A\u001b[A\n",
      "\n",
      "\u001b[A\u001b[A\n",
      "100%|██████████| 2/2 [00:24<00:00, 14.22s/it]\u001b[A\n",
      "100%|██████████| 3/3 [20:11<00:00, 398.28s/it]"
     ]
    },
    {
     "name": "stdout",
     "output_type": "stream",
     "text": [
      "ExtraTreesClassifier1 : 0.54003084688726872\n",
      "{'clf': 'ExtraTreesClassifier', 'score': 0.5400308468872687}\n"
     ]
    },
    {
     "name": "stderr",
     "output_type": "stream",
     "text": [
      "\n"
     ]
    }
   ],
   "source": [
    "examines = []\n",
    "\n",
    "y_prep = LabelEncoder().fit_transform(y)\n",
    "for tokenizer in tqdm(tokenizers):\n",
    "    %time X_prep = X.apply(tokenizer)\n",
    "    %time X_prep = X_prep.apply(lambda x: ' '.join(x) if len(x) > 0 else '$$$')\n",
    "    for vectorizer in tqdm([CountVectorizer, TfidfVectorizer]):\n",
    "        %time vectorizer = vectorizer()#.fit(X_prep)\n",
    "        X_vect = vectorizer.fit_transform(X_prep)\n",
    "        X_train, X_test, y_train, y_test = train_test_split(X_vect, y_prep, test_size=0.4, random_state=42, shuffle=True)\n",
    "        for classifier in tqdm([RidgeClassifier, ExtraTreesClassifier]):\n",
    "            d = {}\n",
    "            if classifier is ExtraTreesClassifier:\n",
    "                d['n_jobs'] = 7;\n",
    "            clf = classifier(random_state=42, class_weight='balanced', **d)\n",
    "            examines.append((X_prep, tokenizer, vectorizer, clf, examine(clf, X_train, X_test, y_train, y_test)))\n",
    "            print(examines[-1][-1])"
   ]
  },
  {
   "cell_type": "markdown",
   "metadata": {},
   "source": [
    "Выведите размер полученного словаря"
   ]
  },
  {
   "cell_type": "code",
   "execution_count": 59,
   "metadata": {},
   "outputs": [
    {
     "name": "stdout",
     "output_type": "stream",
     "text": [
      "##########################################\n",
      "Vocabulary size:\n",
      "19888\n",
      "##########################################\n",
      "Vocabulary size:\n",
      "19888\n",
      "##########################################\n",
      "Vocabulary size:\n",
      "19888\n",
      "##########################################\n",
      "Vocabulary size:\n",
      "19888\n",
      "##########################################\n",
      "Vocabulary size:\n",
      "15201\n",
      "##########################################\n",
      "Vocabulary size:\n",
      "15201\n",
      "##########################################\n",
      "Vocabulary size:\n",
      "15201\n",
      "##########################################\n",
      "Vocabulary size:\n",
      "15201\n",
      "##########################################\n",
      "Vocabulary size:\n",
      "17990\n",
      "##########################################\n",
      "Vocabulary size:\n",
      "17990\n",
      "##########################################\n",
      "Vocabulary size:\n",
      "17990\n",
      "##########################################\n",
      "Vocabulary size:\n",
      "17990\n"
     ]
    }
   ],
   "source": [
    "for x in examines:\n",
    "    print(\"#\"*42)\n",
    "    print(\"Vocabulary size:\")#.vocabulary_)\n",
    "    print(len(x[2].vocabulary_))"
   ]
  },
  {
   "cell_type": "code",
   "execution_count": 71,
   "metadata": {},
   "outputs": [],
   "source": [
    "# Бережно взято из практики\n",
    "def most_influential_words(clf, vectorizer, genre_name=1, num_words=10):\n",
    "    genre_name = np.argwhere(clf.classes_== genre_name)[0][0]\n",
    "    features = vectorizer.get_feature_names()\n",
    "    max_coef = sorted(enumerate(clf.coef_[genre_name]), key=lambda x:x[1], reverse=True)\n",
    "    return [features[x[0]] for x in max_coef[:num_words]]"
   ]
  },
  {
   "cell_type": "code",
   "execution_count": 70,
   "metadata": {},
   "outputs": [
    {
     "name": "stdout",
     "output_type": "stream",
     "text": [
      "['bad']\n",
      "['excellent']\n",
      "['good']\n"
     ]
    }
   ],
   "source": [
    "for i in range(3):\n",
    "    print(y[y_prep==i].unique())"
   ]
  },
  {
   "cell_type": "markdown",
   "metadata": {},
   "source": [
    "Покажите наиболее важные слова для модели"
   ]
  },
  {
   "cell_type": "code",
   "execution_count": 87,
   "metadata": {},
   "outputs": [
    {
     "name": "stdout",
     "output_type": "stream",
     "text": [
      "1 try:\n",
      "Tokenizer <function simple_tokenize_text at 0x7f2bca138620>\n",
      "Vectorizer type: <class 'sklearn.feature_extraction.text.CountVectorizer'>\n",
      "most influential words:\n",
      "for bad:\n",
      "['preponderance', 'shorter', 'embellished', 'potting', 'affordably', 'dullness', 'lax', 'bris', 'distract', 'apex']\n",
      "for excellent:\n",
      "['rolled', 'shooting', 'retreating', 'benefiting', 'attracts', 'sorella', 'intuition', 'wichmann', 'speckled', 'perrier']\n",
      "for good:\n",
      "['flourishes', 'invigorated', 'strawberrylike', 'liste', 'flit', 'cordon', 'bounty', 'endear', 'decked', 'sharing']\n",
      "\n",
      "2 try:\n",
      "Tokenizer <function simple_tokenize_text at 0x7f2bca138620>\n",
      "Vectorizer type: <class 'sklearn.feature_extraction.text.TfidfVectorizer'>\n",
      "most influential words:\n",
      "for bad:\n",
      "['simple', 'lacks', 'lacking', 'pickled', 'strange', 'thin', 'lean', 'unripe', 'short', 'odd']\n",
      "for excellent:\n",
      "['2030', 'superb', '2026', '2025', '2035', '2024', 'beautiful', '2040', '2029', 'beautifully']\n",
      "for good:\n",
      "['2018', 'superior', 'chaparral', 'appeals', '2021', 'designate', '2020', 'kabinett', 'flowing', 'rewarding']\n",
      "\n",
      "3 try:\n",
      "Tokenizer <function stem_tokenize_text at 0x7f2bca138bf8>\n",
      "Vectorizer type: <class 'sklearn.feature_extraction.text.CountVectorizer'>\n",
      "most influential words:\n",
      "for bad:\n",
      "['shorter', 'chambourcin', 'preponder', 'recept', 'acet', 'meritag', 'passerina', 'combat', 'evalu', 'frutti']\n",
      "for excellent:\n",
      "['skip', 'piercingli', 'durel', 'compôt', 'hen', 'ovid', 'krug', 'legaci', 'perrier', 'persuas']\n",
      "for good:\n",
      "['rockpil', 'lavender', 'locked', 'strawberrylik', 'cordon', 'endear', 'impromptu', 'melang', 'unclench', 'oper']\n",
      "\n",
      "4 try:\n",
      "Tokenizer <function stem_tokenize_text at 0x7f2bca138bf8>\n",
      "Vectorizer type: <class 'sklearn.feature_extraction.text.TfidfVectorizer'>\n",
      "most influential words:\n",
      "for bad:\n",
      "['simpl', 'lack', 'strang', 'pickl', 'thin', 'odd', 'lean', 'wateri', 'unbalanc', 'short']\n",
      "for excellent:\n",
      "['2030', '2026', 'superb', 'beauti', '2035', '2025', '2024', 'immens', '2040', '2032']\n",
      "for good:\n",
      "['superior', '2018', '2021', 'embrac', 'anchor', 'justic', 'kabinett', 'chaparr', 'ryan', 'reward']\n",
      "\n",
      "5 try:\n",
      "Tokenizer <function lemm_tokenize_text at 0x7f2bc38b3b70>\n",
      "Vectorizer type: <class 'sklearn.feature_extraction.text.CountVectorizer'>\n",
      "most influential words:\n",
      "for bad:\n",
      "['seyval', 'frutti', 'cayuga', 'cretan', 'acetic', 'combat', 'cooper', 'fundamental', 'meritage', 'affordably']\n",
      "for excellent:\n",
      "['retreat', 'skip', 'intuition', 'durell', 'delineation', 'ovide', 'moreau', 'perrier', 'fiercely', 'piercingly']\n",
      "for good:\n",
      "['bounty', 'strawberrylike', 'mellows', 'botanical', 'locked', 'dancing', '2012s', 'overdo', 'endear', 'amontillado']\n",
      "\n",
      "6 try:\n",
      "Tokenizer <function lemm_tokenize_text at 0x7f2bc38b3b70>\n",
      "Vectorizer type: <class 'sklearn.feature_extraction.text.TfidfVectorizer'>\n",
      "most influential words:\n",
      "for bad:\n",
      "['simple', 'lack', 'strange', 'pickle', 'thin', 'spin', 'watery', 'odd', 'short', 'lean']\n",
      "for excellent:\n",
      "['2030', 'superb', '2026', '2035', '2025', '2024', '2040', 'beautiful', '2032', 'stunning']\n",
      "for good:\n",
      "['superior', 'embrace', '2018', '2021', 'chaparral', 'mellows', 'locked', 'designate', 'anchor', 'justice']\n",
      "\n"
     ]
    }
   ],
   "source": [
    "cls = ['bad', 'excellent', 'good']\n",
    "\n",
    "for i in range(len(examines)):\n",
    "    if i % 2 == 1:\n",
    "        continue\n",
    "    print(\"%d try:\" % (i//2+1))\n",
    "    x = examines[i]\n",
    "    print(\"Tokenizer\", x[1])\n",
    "    print(\"Vectorizer type:\", type(x[2]))\n",
    "    print(\"most influential words:\")\n",
    "    for j in range(3):\n",
    "        print('for %s:' % cls[j])\n",
    "        print(most_influential_words(x[-2], x[2], j))\n",
    "    print()"
   ]
  },
  {
   "cell_type": "markdown",
   "metadata": {},
   "source": [
    "# 3. Эксперименты с word2vec\n",
    "\n",
    "На практике мы рассмотрели продвинутую технологию анализа текстов: word2vec и doc2vec. Дополнительно про них вы можете посмотреть на видео: \n",
    "\n",
    "- [Мастер класс](https://www.youtube.com/watch?v=oBb9aFmp0Hs) по Gensim и [исходники](https://github.com/RaRe-Technologies/movie-plots-by-genre)\n",
    "- [Лекция](https://www.youtube.com/watch?v=hiDBnEyoZS4) по векторным представления слов в документах.\n",
    "\n",
    "### Задание\n",
    "\n",
    "- скачать предобученный word2vec [Google News pre-trained word2vec (1.5 GB)](https://drive.google.com/file/d/0B7XkCwpI5KDYNlNUTTlSS21pQmM/edit?usp=sharing)\n",
    "- установить gensim\n",
    "- получите векторное представление текстов, применив токенайзер с лемматизацией. В качестве вектора текста будем использовать средний вектор всех слов текста. Это было описано в практике.\n",
    "- обучите RidgeClassifier\n",
    "- постройте confusion matrix\n",
    "- выведите наиболее близкие в векторном смысле слова к среднему вектору темы (это тоже было)"
   ]
  },
  {
   "cell_type": "code",
   "execution_count": null,
   "metadata": {},
   "outputs": [],
   "source": []
  },
  {
   "cell_type": "markdown",
   "metadata": {},
   "source": [
    "# 4. Doc2Vec\n",
    "\n",
    "Теперь обучаем doc2vec модель. Посмотрите сами сколько нужно выбрать итераций, чтобы получилось более менее приемлемое качество. В этот раз у нас данных достаточно много, но мы ограничены производительностю компьютера. \n",
    "\n",
    "Основная цель этого экспериента - получить сравнение близости тем(тэгов doc2vec) друг относительно друга, как мы делали с жанрами фильмов. Мы надеемся что комментарии про отличное вино сильно не похожи на комментарии про отвратительное. А может нет, doc2vec его знает. "
   ]
  },
  {
   "cell_type": "code",
   "execution_count": null,
   "metadata": {},
   "outputs": [],
   "source": []
  },
  {
   "cell_type": "markdown",
   "metadata": {},
   "source": [
    "# 5. Ансамбль\n",
    "\n",
    "С помощью `Pipeline` объедините модели с лучшими результатами и тоже постройте `confusion matrix`."
   ]
  },
  {
   "cell_type": "markdown",
   "metadata": {},
   "source": [
    "# на подумать\n",
    "\n",
    "Если наша цель построить действительно мощный предсказатель. То нам стоит учитывать числа в текстах. Обычно их просто заменяют на символы `#`, но в данном случае они имеют значение. Возможно их стоит рассматривать как отдельные числовые признаки. Вполне возможно в тексте будет много имен собственных, их тоже можно обрабатывать отдельно.\n",
    "\n",
    "Если вам будет интересна тема обработки текстов, то на kaggle есть соревнования: \n",
    "\n",
    "- https://www.kaggle.com/c/jigsaw-toxic-comment-classification-challenge\n",
    "- https://www.kaggle.com/c/quora-question-pairs\n",
    "- https://www.kaggle.com/c/spooky-author-identification/\n",
    "\n",
    "Дополнительно можете почитать про [Vowpal Wabbit](https://github.com/JohnLangford/vowpal_wabbit)."
   ]
  }
 ],
 "metadata": {
  "kernelspec": {
   "display_name": "Python 3",
   "language": "python",
   "name": "python3"
  },
  "language_info": {
   "codemirror_mode": {
    "name": "ipython",
    "version": 3
   },
   "file_extension": ".py",
   "mimetype": "text/x-python",
   "name": "python",
   "nbconvert_exporter": "python",
   "pygments_lexer": "ipython3",
   "version": "3.5.2"
  }
 },
 "nbformat": 4,
 "nbformat_minor": 2
}
